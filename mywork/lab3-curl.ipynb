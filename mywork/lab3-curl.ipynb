{
 "cells": [
  {
   "cell_type": "markdown",
   "metadata": {},
   "source": [
    "## Lab 3 - Curl"
   ]
  },
  {
   "cell_type": "markdown",
   "metadata": {},
   "source": [
    "In this lab we will make some CURL commands on the command line."
   ]
  },
  {
   "cell_type": "markdown",
   "metadata": {},
   "source": [
    "### 1. Test if the CURL is working on the command line."
   ]
  },
  {
   "cell_type": "markdown",
   "metadata": {},
   "source": [
    "![google](img/google.png)"
   ]
  },
  {
   "cell_type": "markdown",
   "metadata": {},
   "source": [
    "As per above we got the \"301\" error message saying that the page has moved."
   ]
  },
  {
   "cell_type": "markdown",
   "metadata": {},
   "source": [
    "### 2. We will check this using the -i option"
   ]
  },
  {
   "cell_type": "markdown",
   "metadata": {},
   "source": [
    "![google -i](<img/google -i.png>)"
   ]
  },
  {
   "cell_type": "markdown",
   "metadata": {},
   "source": [
    "The \"301\" error is still showing there."
   ]
  },
  {
   "cell_type": "markdown",
   "metadata": {},
   "source": [
    "I will use the **www.google.com** option."
   ]
  },
  {
   "cell_type": "markdown",
   "metadata": {},
   "source": [
    "![google 200](<img/google 200.png>)"
   ]
  },
  {
   "cell_type": "markdown",
   "metadata": {},
   "source": [
    "As we can see above the HTTP status code is \"200\" which means the request succeeded. The resource has been fetched and transmitted in the message body."
   ]
  },
  {
   "cell_type": "markdown",
   "metadata": {},
   "source": [
    "### 3. Using API in the lecture"
   ]
  },
  {
   "cell_type": "markdown",
   "metadata": {},
   "source": [
    " - Request to get all the books from http://andrewbeatty1.pythonanywhere.com/ using command `curl http://andrewbeatty1.pythonanywhere.com/books`"
   ]
  },
  {
   "cell_type": "markdown",
   "metadata": {},
   "source": [
    "![curl_books](img/curl_books.png)"
   ]
  },
  {
   "cell_type": "markdown",
   "metadata": {},
   "source": [
    "- Getting book with the id=17, using command `curl http://andrewbeatty1.pythonanywhere.com/books/17`"
   ]
  },
  {
   "cell_type": "markdown",
   "metadata": {},
   "source": [
    "Request to get book no: 17 did not work.<br>\n",
    "I tried the different book number: 546 and it worked."
   ]
  },
  {
   "cell_type": "markdown",
   "metadata": {},
   "source": [
    "![book_id](img/book_id.png)"
   ]
  },
  {
   "cell_type": "markdown",
   "metadata": {},
   "source": [
    "### 4. Request to create a book"
   ]
  },
  {
   "cell_type": "markdown",
   "metadata": {},
   "source": [
    "Windows only has “ (no ‘) so the data needs to be between “ “ and all the inverted commas in the JSON need to be escaped \\”.<br>\n",
    "The code for this is: `curl  -H \"Content-Type:application/json\" -X POST -d \"{\\\"title\\\":\\\"xxx\\\",\\\"author\\\":\\\"xxx\\\",\\\"price\\\":3000}\" http://andrewbeatty1.pythonanywhere.com/books`"
   ]
  },
  {
   "cell_type": "markdown",
   "metadata": {},
   "source": [
    "![book_create](img/book_create.png)"
   ]
  },
  {
   "cell_type": "markdown",
   "metadata": {},
   "source": [
    "### 5. Update the book"
   ]
  },
  {
   "cell_type": "markdown",
   "metadata": {},
   "source": [
    "To update the book, which I just created, with the new price I will use this command: `curl  -H \"Content-Type:application/json\" -X PUT  -d \"{\\\"price\\\":35}\" http://andrewbeatty1.pythonanywhere.com/books/???` but I need to replace `\"???\"` with the ID number of the book I created."
   ]
  },
  {
   "cell_type": "markdown",
   "metadata": {},
   "source": [
    "![book_change](img/book_change.png)"
   ]
  },
  {
   "cell_type": "markdown",
   "metadata": {},
   "source": [
    "### 6. Delete the book"
   ]
  },
  {
   "cell_type": "markdown",
   "metadata": {},
   "source": [
    "To delete the book I just created I will need to use this command: `curl   -X DELETE http://andrewbeatty1.pythonanywhere.com/books/???` where `\"???\"` needs to be replaced with the ID of the book recently created."
   ]
  },
  {
   "cell_type": "markdown",
   "metadata": {},
   "source": [
    "![book_delete](img/book_delete.png)"
   ]
  },
  {
   "cell_type": "markdown",
   "metadata": {},
   "source": [
    "### 7. Extra"
   ]
  },
  {
   "cell_type": "markdown",
   "metadata": {},
   "source": [
    "I want to get a webpage and store in a local file with a specific name. To do so I will need to use this command: `curl -o wsaa_books.html http://andrewbeatty1.pythonanywhere.com/books/`"
   ]
  },
  {
   "cell_type": "markdown",
   "metadata": {},
   "source": [
    "![get_webpage](img/get_webpage.png)"
   ]
  },
  {
   "cell_type": "markdown",
   "metadata": {},
   "source": [
    "### End"
   ]
  }
 ],
 "metadata": {
  "kernelspec": {
   "display_name": "base",
   "language": "python",
   "name": "python3"
  },
  "language_info": {
   "codemirror_mode": {
    "name": "ipython",
    "version": 3
   },
   "file_extension": ".py",
   "mimetype": "text/x-python",
   "name": "python",
   "nbconvert_exporter": "python",
   "pygments_lexer": "ipython3",
   "version": "3.11.5"
  }
 },
 "nbformat": 4,
 "nbformat_minor": 2
}
